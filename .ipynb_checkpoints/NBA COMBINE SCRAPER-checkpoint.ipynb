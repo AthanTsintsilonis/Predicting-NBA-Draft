{
 "cells": [
  {
   "cell_type": "code",
   "execution_count": 1,
   "id": "7b8236bc",
   "metadata": {},
   "outputs": [],
   "source": [
    "import pandas as pd\n",
    "import requests\n",
    "import time\n",
    "from time import sleep\n"
   ]
  },
  {
   "cell_type": "code",
   "execution_count": 2,
   "id": "23d37b61",
   "metadata": {},
   "outputs": [],
   "source": [
    "from nba_api.stats.static import players\n",
    "from nba_api.stats.endpoints import draftcombinestats"
   ]
  },
  {
   "cell_type": "code",
   "execution_count": 3,
   "id": "7f93c239",
   "metadata": {},
   "outputs": [],
   "source": [
    "player_dict = players.get_players()\n",
    "\n",
    "test = [player for player in player_dict if player['full_name'] =='Trae Young'][0]"
   ]
  },
  {
   "cell_type": "code",
   "execution_count": 4,
   "id": "2b5087f7",
   "metadata": {},
   "outputs": [],
   "source": [
    "years = list(range(2000,2023))\n",
    "list_of_dfs = []\n",
    "for year in years:\n",
    "    combine = draftcombinestats.DraftCombineStats(season_all_time = year)\n",
    "    combine_df = combine.get_data_frames()\n",
    "    list_of_dfs.append(combine_df[0])\n",
    "    sleep(0.5)\n",
    "complete_df = pd.concat(list_of_dfs)\n",
    "\n",
    "            "
   ]
  },
  {
   "cell_type": "code",
   "execution_count": 5,
   "id": "9fcbdf73",
   "metadata": {},
   "outputs": [],
   "source": [
    "list_of_columns = list(complete_df.columns)\n",
    "columns_to_drop = ['HEIGHT_W_SHOES',\n",
    "                     'HEIGHT_W_SHOES_FT_IN',\n",
    "                     'BODY_FAT_PCT',\n",
    "                     'HAND_LENGTH',\n",
    "                     'HAND_WIDTH',\n",
    "                     'MODIFIED_LANE_AGILITY_TIME',\n",
    "                     'SPOT_FIFTEEN_CORNER_LEFT',\n",
    "                     'SPOT_FIFTEEN_BREAK_LEFT',\n",
    "                     'SPOT_FIFTEEN_TOP_KEY',\n",
    "                     'SPOT_FIFTEEN_BREAK_RIGHT',\n",
    "                     'SPOT_FIFTEEN_CORNER_RIGHT',\n",
    "                     'SPOT_COLLEGE_CORNER_LEFT',\n",
    "                     'SPOT_COLLEGE_BREAK_LEFT',\n",
    "                     'SPOT_COLLEGE_TOP_KEY',\n",
    "                     'SPOT_COLLEGE_BREAK_RIGHT',\n",
    "                     'SPOT_COLLEGE_CORNER_RIGHT',\n",
    "                     'SPOT_NBA_CORNER_LEFT',\n",
    "                     'SPOT_NBA_BREAK_LEFT',\n",
    "                     'SPOT_NBA_TOP_KEY',\n",
    "                     'SPOT_NBA_BREAK_RIGHT',\n",
    "                     'SPOT_NBA_CORNER_RIGHT',\n",
    "                     'OFF_DRIB_FIFTEEN_BREAK_LEFT',\n",
    "                     'OFF_DRIB_FIFTEEN_TOP_KEY',\n",
    "                     'OFF_DRIB_FIFTEEN_BREAK_RIGHT',\n",
    "                     'OFF_DRIB_COLLEGE_BREAK_LEFT',\n",
    "                     'OFF_DRIB_COLLEGE_TOP_KEY',\n",
    "                     'OFF_DRIB_COLLEGE_BREAK_RIGHT',\n",
    "                     'ON_MOVE_FIFTEEN',\n",
    "                     'ON_MOVE_COLLEGE']\n",
    "cleaned_df = complete_df.drop(columns = columns_to_drop)\n",
    "cleaned_df = cleaned_df.dropna()"
   ]
  },
  {
   "cell_type": "code",
   "execution_count": 6,
   "id": "9551ca2d",
   "metadata": {},
   "outputs": [],
   "source": [
    "cleaned_df.to_csv('combine.csv')"
   ]
  },
  {
   "cell_type": "code",
   "execution_count": null,
   "id": "519f3466",
   "metadata": {},
   "outputs": [],
   "source": []
  }
 ],
 "metadata": {
  "kernelspec": {
   "display_name": "Python 3 (ipykernel)",
   "language": "python",
   "name": "python3"
  },
  "language_info": {
   "codemirror_mode": {
    "name": "ipython",
    "version": 3
   },
   "file_extension": ".py",
   "mimetype": "text/x-python",
   "name": "python",
   "nbconvert_exporter": "python",
   "pygments_lexer": "ipython3",
   "version": "3.9.7"
  }
 },
 "nbformat": 4,
 "nbformat_minor": 5
}
