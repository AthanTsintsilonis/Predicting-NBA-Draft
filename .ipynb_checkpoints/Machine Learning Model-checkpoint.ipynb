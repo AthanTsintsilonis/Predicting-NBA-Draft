{
 "cells": [
  {
   "cell_type": "code",
   "execution_count": 1,
   "id": "d431b69d",
   "metadata": {},
   "outputs": [],
   "source": [
    "import pandas as pd\n",
    "from sklearn.linear_model import Ridge\n",
    "from sklearn.metrics import mean_squared_error"
   ]
  },
  {
   "cell_type": "code",
   "execution_count": 2,
   "id": "ff2bfbd4",
   "metadata": {},
   "outputs": [],
   "source": [
    "stats = pd.read_csv('total.csv')"
   ]
  },
  {
   "cell_type": "code",
   "execution_count": 3,
   "id": "0a8a6f77",
   "metadata": {},
   "outputs": [],
   "source": [
    "del stats['Unnamed: 0']"
   ]
  },
  {
   "cell_type": "code",
   "execution_count": 4,
   "id": "7d5e1bed",
   "metadata": {},
   "outputs": [
    {
     "data": {
      "text/plain": [
       "Player              0\n",
       "Pos                 0\n",
       "G                   0\n",
       "MP                  0\n",
       "FG%                 0\n",
       "2P%                 0\n",
       "3P%                 0\n",
       "FT%                 0\n",
       "PTS                 0\n",
       "TRB                 0\n",
       "AST                 0\n",
       "STL                 0\n",
       "BLK                 0\n",
       "PER                 0\n",
       "WS                  0\n",
       "BPM                 0\n",
       "Year                0\n",
       "Height w/o Shoes    0\n",
       "Height w/ Shoes     0\n",
       "Weight              0\n",
       "Wingspan            0\n",
       "Standing Reach      0\n",
       "Body Fat %          0\n",
       "Hand Length         0\n",
       "Hand Width          0\n",
       "Pick                0\n",
       "Age                 0\n",
       "dtype: int64"
      ]
     },
     "execution_count": 4,
     "metadata": {},
     "output_type": "execute_result"
    }
   ],
   "source": [
    "pd.isnull(stats).sum()"
   ]
  },
  {
   "cell_type": "code",
   "execution_count": 5,
   "id": "787841cc",
   "metadata": {},
   "outputs": [
    {
     "data": {
      "text/plain": [
       "Index(['Player', 'Pos', 'G', 'MP', 'FG%', '2P%', '3P%', 'FT%', 'PTS', 'TRB',\n",
       "       'AST', 'STL', 'BLK', 'PER', 'WS', 'BPM', 'Year', 'Height w/o Shoes',\n",
       "       'Height w/ Shoes', 'Weight', 'Wingspan', 'Standing Reach', 'Body Fat %',\n",
       "       'Hand Length', 'Hand Width', 'Pick', 'Age'],\n",
       "      dtype='object')"
      ]
     },
     "execution_count": 5,
     "metadata": {},
     "output_type": "execute_result"
    }
   ],
   "source": [
    "stats.columns"
   ]
  },
  {
   "cell_type": "code",
   "execution_count": 6,
   "id": "7412f25d",
   "metadata": {},
   "outputs": [],
   "source": [
    "predictors = ['G', 'MP', 'FG%', '2P%', '3P%', 'FT%', 'PTS', 'TRB',\n",
    "       'AST', 'STL', 'BLK', 'PER', 'WS', 'BPM', 'Year', 'Height w/o Shoes',\n",
    "       'Height w/ Shoes', 'Weight', 'Wingspan', 'Standing Reach', 'Body Fat %',\n",
    "       'Hand Length', 'Hand Width', 'Age']\n"
   ]
  },
  {
   "cell_type": "code",
   "execution_count": 7,
   "id": "098a0754",
   "metadata": {},
   "outputs": [],
   "source": [
    "train = stats[stats['Year'] < 2019]"
   ]
  },
  {
   "cell_type": "code",
   "execution_count": 8,
   "id": "e7960eef",
   "metadata": {},
   "outputs": [],
   "source": [
    "test = stats[stats['Year'] == 2019]"
   ]
  },
  {
   "cell_type": "code",
   "execution_count": 9,
   "id": "b011653d",
   "metadata": {},
   "outputs": [],
   "source": [
    "reg = Ridge(alpha = 0.1)"
   ]
  },
  {
   "cell_type": "code",
   "execution_count": 10,
   "id": "9ee52a77",
   "metadata": {},
   "outputs": [
    {
     "data": {
      "text/plain": [
       "Ridge(alpha=0.1)"
      ]
     },
     "execution_count": 10,
     "metadata": {},
     "output_type": "execute_result"
    }
   ],
   "source": [
    "reg.fit(train[predictors], train['Pick'])"
   ]
  },
  {
   "cell_type": "code",
   "execution_count": 11,
   "id": "b077f88a",
   "metadata": {},
   "outputs": [],
   "source": [
    "predictions = reg.predict(test[predictors])"
   ]
  },
  {
   "cell_type": "code",
   "execution_count": 12,
   "id": "508aa7a5",
   "metadata": {},
   "outputs": [],
   "source": [
    "predictions = pd.DataFrame(predictions, columns = ['predictions'], index = test.index)"
   ]
  },
  {
   "cell_type": "code",
   "execution_count": 13,
   "id": "06b2c352",
   "metadata": {},
   "outputs": [],
   "source": [
    "combination = pd.concat([test[['Player', 'Pick']], predictions], axis = 1)"
   ]
  },
  {
   "cell_type": "code",
   "execution_count": 15,
   "id": "90d54dec",
   "metadata": {},
   "outputs": [
    {
     "data": {
      "text/plain": [
       "163.17704085951937"
      ]
     },
     "execution_count": 15,
     "metadata": {},
     "output_type": "execute_result"
    }
   ],
   "source": [
    "mean_squared_error(combination['Pick'], combination['predictions'])"
   ]
  },
  {
   "cell_type": "code",
   "execution_count": null,
   "id": "89e3ed0a",
   "metadata": {},
   "outputs": [],
   "source": []
  },
  {
   "cell_type": "code",
   "execution_count": 16,
   "id": "8e8dccd5",
   "metadata": {},
   "outputs": [],
   "source": [
    "combination = combination.sort_values('Pick', ascending = True)\n",
    "combination['Rk'] = list(range(1, combination.shape[0]+1))\n"
   ]
  },
  {
   "cell_type": "code",
   "execution_count": 17,
   "id": "76627a10",
   "metadata": {},
   "outputs": [],
   "source": [
    "combination = combination.sort_values('predictions', ascending = True)\n",
    "combination['Predicted_Rk'] = list(range(1, combination.shape[0]+1))"
   ]
  },
  {
   "cell_type": "code",
   "execution_count": 18,
   "id": "54c87695",
   "metadata": {},
   "outputs": [
    {
     "data": {
      "text/html": [
       "<div>\n",
       "<style scoped>\n",
       "    .dataframe tbody tr th:only-of-type {\n",
       "        vertical-align: middle;\n",
       "    }\n",
       "\n",
       "    .dataframe tbody tr th {\n",
       "        vertical-align: top;\n",
       "    }\n",
       "\n",
       "    .dataframe thead th {\n",
       "        text-align: right;\n",
       "    }\n",
       "</style>\n",
       "<table border=\"1\" class=\"dataframe\">\n",
       "  <thead>\n",
       "    <tr style=\"text-align: right;\">\n",
       "      <th></th>\n",
       "      <th>Player</th>\n",
       "      <th>Pick</th>\n",
       "      <th>predictions</th>\n",
       "      <th>Rk</th>\n",
       "      <th>Predicted_Rk</th>\n",
       "    </tr>\n",
       "  </thead>\n",
       "  <tbody>\n",
       "    <tr>\n",
       "      <th>145</th>\n",
       "      <td>Bol Bol</td>\n",
       "      <td>44</td>\n",
       "      <td>15.134276</td>\n",
       "      <td>21</td>\n",
       "      <td>1</td>\n",
       "    </tr>\n",
       "    <tr>\n",
       "      <th>21</th>\n",
       "      <td>Jaxson Hayes</td>\n",
       "      <td>8</td>\n",
       "      <td>15.339366</td>\n",
       "      <td>3</td>\n",
       "      <td>2</td>\n",
       "    </tr>\n",
       "    <tr>\n",
       "      <th>20</th>\n",
       "      <td>Jarrett Culver</td>\n",
       "      <td>6</td>\n",
       "      <td>16.839418</td>\n",
       "      <td>1</td>\n",
       "      <td>3</td>\n",
       "    </tr>\n",
       "    <tr>\n",
       "      <th>61</th>\n",
       "      <td>Grant Williams</td>\n",
       "      <td>22</td>\n",
       "      <td>19.967505</td>\n",
       "      <td>8</td>\n",
       "      <td>4</td>\n",
       "    </tr>\n",
       "    <tr>\n",
       "      <th>195</th>\n",
       "      <td>Coby White</td>\n",
       "      <td>7</td>\n",
       "      <td>20.469264</td>\n",
       "      <td>2</td>\n",
       "      <td>5</td>\n",
       "    </tr>\n",
       "    <tr>\n",
       "      <th>57</th>\n",
       "      <td>Keldon Johnson</td>\n",
       "      <td>29</td>\n",
       "      <td>21.531467</td>\n",
       "      <td>14</td>\n",
       "      <td>6</td>\n",
       "    </tr>\n",
       "    <tr>\n",
       "      <th>56</th>\n",
       "      <td>Tyler Herro</td>\n",
       "      <td>13</td>\n",
       "      <td>22.136569</td>\n",
       "      <td>5</td>\n",
       "      <td>7</td>\n",
       "    </tr>\n",
       "    <tr>\n",
       "      <th>188</th>\n",
       "      <td>Nickeil Alexander-Walker</td>\n",
       "      <td>17</td>\n",
       "      <td>22.810461</td>\n",
       "      <td>6</td>\n",
       "      <td>8</td>\n",
       "    </tr>\n",
       "    <tr>\n",
       "      <th>146</th>\n",
       "      <td>Jaylen Nowell</td>\n",
       "      <td>43</td>\n",
       "      <td>22.990295</td>\n",
       "      <td>20</td>\n",
       "      <td>9</td>\n",
       "    </tr>\n",
       "    <tr>\n",
       "      <th>90</th>\n",
       "      <td>Ignas Brazdeikis</td>\n",
       "      <td>47</td>\n",
       "      <td>23.920271</td>\n",
       "      <td>24</td>\n",
       "      <td>10</td>\n",
       "    </tr>\n",
       "    <tr>\n",
       "      <th>22</th>\n",
       "      <td>Talen Horton-Tucker</td>\n",
       "      <td>46</td>\n",
       "      <td>24.632517</td>\n",
       "      <td>23</td>\n",
       "      <td>11</td>\n",
       "    </tr>\n",
       "    <tr>\n",
       "      <th>91</th>\n",
       "      <td>Bruno Fernando</td>\n",
       "      <td>34</td>\n",
       "      <td>24.821024</td>\n",
       "      <td>16</td>\n",
       "      <td>12</td>\n",
       "    </tr>\n",
       "    <tr>\n",
       "      <th>55</th>\n",
       "      <td>Daniel Gafford</td>\n",
       "      <td>38</td>\n",
       "      <td>27.561820</td>\n",
       "      <td>17</td>\n",
       "      <td>13</td>\n",
       "    </tr>\n",
       "    <tr>\n",
       "      <th>190</th>\n",
       "      <td>Ty Jerome</td>\n",
       "      <td>24</td>\n",
       "      <td>28.593744</td>\n",
       "      <td>9</td>\n",
       "      <td>14</td>\n",
       "    </tr>\n",
       "    <tr>\n",
       "      <th>92</th>\n",
       "      <td>Jordan Poole</td>\n",
       "      <td>28</td>\n",
       "      <td>28.832499</td>\n",
       "      <td>13</td>\n",
       "      <td>15</td>\n",
       "    </tr>\n",
       "    <tr>\n",
       "      <th>216</th>\n",
       "      <td>Brandon Clarke</td>\n",
       "      <td>21</td>\n",
       "      <td>28.971038</td>\n",
       "      <td>7</td>\n",
       "      <td>16</td>\n",
       "    </tr>\n",
       "    <tr>\n",
       "      <th>193</th>\n",
       "      <td>Nassir Little</td>\n",
       "      <td>25</td>\n",
       "      <td>31.036018</td>\n",
       "      <td>10</td>\n",
       "      <td>17</td>\n",
       "    </tr>\n",
       "    <tr>\n",
       "      <th>189</th>\n",
       "      <td>Kyle Guy</td>\n",
       "      <td>55</td>\n",
       "      <td>31.049266</td>\n",
       "      <td>30</td>\n",
       "      <td>18</td>\n",
       "    </tr>\n",
       "    <tr>\n",
       "      <th>228</th>\n",
       "      <td>Dylan Windler</td>\n",
       "      <td>26</td>\n",
       "      <td>32.086888</td>\n",
       "      <td>11</td>\n",
       "      <td>19</td>\n",
       "    </tr>\n",
       "    <tr>\n",
       "      <th>54</th>\n",
       "      <td>Nicolas Claxton</td>\n",
       "      <td>31</td>\n",
       "      <td>32.867587</td>\n",
       "      <td>15</td>\n",
       "      <td>20</td>\n",
       "    </tr>\n",
       "    <tr>\n",
       "      <th>191</th>\n",
       "      <td>Cameron Johnson</td>\n",
       "      <td>11</td>\n",
       "      <td>33.900432</td>\n",
       "      <td>4</td>\n",
       "      <td>21</td>\n",
       "    </tr>\n",
       "    <tr>\n",
       "      <th>192</th>\n",
       "      <td>Mfiondu Kabengele</td>\n",
       "      <td>27</td>\n",
       "      <td>34.178905</td>\n",
       "      <td>12</td>\n",
       "      <td>22</td>\n",
       "    </tr>\n",
       "    <tr>\n",
       "      <th>93</th>\n",
       "      <td>Isaiah Roby</td>\n",
       "      <td>45</td>\n",
       "      <td>35.057049</td>\n",
       "      <td>22</td>\n",
       "      <td>23</td>\n",
       "    </tr>\n",
       "    <tr>\n",
       "      <th>60</th>\n",
       "      <td>Quinndary Weatherspoon</td>\n",
       "      <td>49</td>\n",
       "      <td>37.783151</td>\n",
       "      <td>26</td>\n",
       "      <td>24</td>\n",
       "    </tr>\n",
       "    <tr>\n",
       "      <th>212</th>\n",
       "      <td>Jalen McDaniels</td>\n",
       "      <td>52</td>\n",
       "      <td>38.815678</td>\n",
       "      <td>28</td>\n",
       "      <td>25</td>\n",
       "    </tr>\n",
       "    <tr>\n",
       "      <th>59</th>\n",
       "      <td>Tremont Waters</td>\n",
       "      <td>51</td>\n",
       "      <td>40.146645</td>\n",
       "      <td>27</td>\n",
       "      <td>26</td>\n",
       "    </tr>\n",
       "    <tr>\n",
       "      <th>194</th>\n",
       "      <td>Terance Mann</td>\n",
       "      <td>48</td>\n",
       "      <td>40.430025</td>\n",
       "      <td>25</td>\n",
       "      <td>27</td>\n",
       "    </tr>\n",
       "    <tr>\n",
       "      <th>53</th>\n",
       "      <td>Jordan Bone</td>\n",
       "      <td>57</td>\n",
       "      <td>41.075476</td>\n",
       "      <td>31</td>\n",
       "      <td>28</td>\n",
       "    </tr>\n",
       "    <tr>\n",
       "      <th>110</th>\n",
       "      <td>Eric Paschall</td>\n",
       "      <td>41</td>\n",
       "      <td>42.147392</td>\n",
       "      <td>18</td>\n",
       "      <td>29</td>\n",
       "    </tr>\n",
       "    <tr>\n",
       "      <th>58</th>\n",
       "      <td>Admiral Schofield</td>\n",
       "      <td>42</td>\n",
       "      <td>43.734892</td>\n",
       "      <td>19</td>\n",
       "      <td>30</td>\n",
       "    </tr>\n",
       "    <tr>\n",
       "      <th>23</th>\n",
       "      <td>Marial Shayok</td>\n",
       "      <td>54</td>\n",
       "      <td>45.058007</td>\n",
       "      <td>29</td>\n",
       "      <td>31</td>\n",
       "    </tr>\n",
       "    <tr>\n",
       "      <th>224</th>\n",
       "      <td>Miye Oni</td>\n",
       "      <td>58</td>\n",
       "      <td>50.769860</td>\n",
       "      <td>32</td>\n",
       "      <td>32</td>\n",
       "    </tr>\n",
       "  </tbody>\n",
       "</table>\n",
       "</div>"
      ],
      "text/plain": [
       "                       Player  Pick  predictions  Rk  Predicted_Rk\n",
       "145                   Bol Bol    44    15.134276  21             1\n",
       "21               Jaxson Hayes     8    15.339366   3             2\n",
       "20             Jarrett Culver     6    16.839418   1             3\n",
       "61             Grant Williams    22    19.967505   8             4\n",
       "195                Coby White     7    20.469264   2             5\n",
       "57             Keldon Johnson    29    21.531467  14             6\n",
       "56                Tyler Herro    13    22.136569   5             7\n",
       "188  Nickeil Alexander-Walker    17    22.810461   6             8\n",
       "146             Jaylen Nowell    43    22.990295  20             9\n",
       "90           Ignas Brazdeikis    47    23.920271  24            10\n",
       "22        Talen Horton-Tucker    46    24.632517  23            11\n",
       "91             Bruno Fernando    34    24.821024  16            12\n",
       "55             Daniel Gafford    38    27.561820  17            13\n",
       "190                 Ty Jerome    24    28.593744   9            14\n",
       "92               Jordan Poole    28    28.832499  13            15\n",
       "216            Brandon Clarke    21    28.971038   7            16\n",
       "193             Nassir Little    25    31.036018  10            17\n",
       "189                  Kyle Guy    55    31.049266  30            18\n",
       "228             Dylan Windler    26    32.086888  11            19\n",
       "54            Nicolas Claxton    31    32.867587  15            20\n",
       "191           Cameron Johnson    11    33.900432   4            21\n",
       "192         Mfiondu Kabengele    27    34.178905  12            22\n",
       "93                Isaiah Roby    45    35.057049  22            23\n",
       "60     Quinndary Weatherspoon    49    37.783151  26            24\n",
       "212           Jalen McDaniels    52    38.815678  28            25\n",
       "59             Tremont Waters    51    40.146645  27            26\n",
       "194              Terance Mann    48    40.430025  25            27\n",
       "53                Jordan Bone    57    41.075476  31            28\n",
       "110             Eric Paschall    41    42.147392  18            29\n",
       "58          Admiral Schofield    42    43.734892  19            30\n",
       "23              Marial Shayok    54    45.058007  29            31\n",
       "224                  Miye Oni    58    50.769860  32            32"
      ]
     },
     "execution_count": 18,
     "metadata": {},
     "output_type": "execute_result"
    }
   ],
   "source": [
    "combination"
   ]
  },
  {
   "cell_type": "code",
   "execution_count": null,
   "id": "16554b41",
   "metadata": {},
   "outputs": [],
   "source": []
  },
  {
   "cell_type": "code",
   "execution_count": null,
   "id": "4bcc3b64",
   "metadata": {},
   "outputs": [],
   "source": []
  }
 ],
 "metadata": {
  "kernelspec": {
   "display_name": "Python 3 (ipykernel)",
   "language": "python",
   "name": "python3"
  },
  "language_info": {
   "codemirror_mode": {
    "name": "ipython",
    "version": 3
   },
   "file_extension": ".py",
   "mimetype": "text/x-python",
   "name": "python",
   "nbconvert_exporter": "python",
   "pygments_lexer": "ipython3",
   "version": "3.9.7"
  }
 },
 "nbformat": 4,
 "nbformat_minor": 5
}
