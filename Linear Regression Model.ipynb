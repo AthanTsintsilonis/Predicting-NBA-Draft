{
 "cells": [
  {
   "cell_type": "code",
   "execution_count": 80,
   "id": "54edfadf",
   "metadata": {},
   "outputs": [],
   "source": [
    "import pandas as pd\n",
    "from sklearn.linear_model import Ridge\n",
    "from sklearn.metrics import mean_squared_error\n",
    "\n"
   ]
  },
  {
   "cell_type": "code",
   "execution_count": 81,
   "id": "167882e6",
   "metadata": {},
   "outputs": [],
   "source": [
    "#Gets the data from the scraper and deletes the index column\n",
    "stats = pd.read_csv('merged.csv')\n",
    "del stats['Unnamed: 0']\n",
    "del stats['BPM']\n",
    "stats = stats.fillna(0)\n",
    "raptor = pd.read_csv('modern_RAPTOR_by_player.csv')"
   ]
  },
  {
   "cell_type": "code",
   "execution_count": 82,
   "id": "87f2223c",
   "metadata": {},
   "outputs": [],
   "source": [
    "raptor_clean = raptor[['player_name','raptor_total', 'season', 'mp']]\n",
    "\n",
    "columns_to_rename = {'player_name': 'Player','raptor_total': 'Raptor'}\n",
    "raptor_clean = raptor_clean.rename(columns = columns_to_rename)\n",
    "raptor_clean['Raptor'] = round(raptor_clean['Raptor'], 1)"
   ]
  },
  {
   "cell_type": "code",
   "execution_count": 83,
   "id": "c6ad0750",
   "metadata": {},
   "outputs": [
    {
     "data": {
      "text/plain": [
       "Index(['Year', 'Player', 'POSITION', 'DRAFT_NUMBER', 'HEIGHT_WO_SHOES',\n",
       "       'WEIGHT', 'WINGSPAN', 'STANDING_REACH', 'STANDING_REACH_FT_IN',\n",
       "       'STANDING_VERTICAL_LEAP', 'MAX_VERTICAL_LEAP', 'LANE_AGILITY_TIME',\n",
       "       'THREE_QUARTER_SPRINT', 'BENCH_PRESS', 'Age (Days)', 'DRAFT_NUMBER.1',\n",
       "       'G', 'MP', 'FG%', '2P%', '3P%', 'FT%', 'PTS', 'TRB', 'AST', 'STL',\n",
       "       'BLK', 'WS', 'Total Minutes', 'Seasons Played', 'Average Minutes'],\n",
       "      dtype='object')"
      ]
     },
     "execution_count": 83,
     "metadata": {},
     "output_type": "execute_result"
    }
   ],
   "source": [
    "#Missing data\n",
    "\n",
    "#2000-2012 (Shuttlerun)\n",
    "#2014, 16, 21, 22, 23 (Bench Press)\n",
    "\n",
    "#Get total mp\n",
    "#Remove duplicate names\n",
    "\n",
    "shuttleRun = range(2000,2013)\n",
    "benchPress = [2014,2016,2021,2022,2023]\n",
    "stats.columns"
   ]
  },
  {
   "cell_type": "code",
   "execution_count": 94,
   "id": "fbb8ca59",
   "metadata": {},
   "outputs": [],
   "source": [
    "#Gets Predidctor variables\n",
    "def get_predictors(year):\n",
    "        columns_to_drop = ['Total Minutes', \n",
    "                         'Seasons Played',\n",
    "                         'Player',\n",
    "                         'POSITION',\n",
    "                         'Year',\n",
    "                         'STANDING_REACH_FT_IN',\n",
    "                         'DRAFT_NUMBER.1',\n",
    "                         'Average Minutes']\n",
    "\n",
    "        predictors = (stats.drop(columns = columns_to_drop)).columns\n",
    "        return predictors\n",
    "        '''\n",
    "        if year in shuttleRun:\n",
    "            predictors.drop(columns = year)\n",
    "        elif year in benchPress:\n",
    "        '''    \n",
    "\n",
    "        \n",
    "    \n"
   ]
  },
  {
   "cell_type": "code",
   "execution_count": 95,
   "id": "dfb13b13",
   "metadata": {},
   "outputs": [
    {
     "data": {
      "text/html": [
       "<div>\n",
       "<style scoped>\n",
       "    .dataframe tbody tr th:only-of-type {\n",
       "        vertical-align: middle;\n",
       "    }\n",
       "\n",
       "    .dataframe tbody tr th {\n",
       "        vertical-align: top;\n",
       "    }\n",
       "\n",
       "    .dataframe thead th {\n",
       "        text-align: right;\n",
       "    }\n",
       "</style>\n",
       "<table border=\"1\" class=\"dataframe\">\n",
       "  <thead>\n",
       "    <tr style=\"text-align: right;\">\n",
       "      <th></th>\n",
       "      <th>Year</th>\n",
       "      <th>Player</th>\n",
       "      <th>POSITION</th>\n",
       "      <th>DRAFT_NUMBER</th>\n",
       "      <th>HEIGHT_WO_SHOES</th>\n",
       "      <th>WEIGHT</th>\n",
       "      <th>WINGSPAN</th>\n",
       "      <th>STANDING_REACH</th>\n",
       "      <th>STANDING_REACH_FT_IN</th>\n",
       "      <th>STANDING_VERTICAL_LEAP</th>\n",
       "      <th>...</th>\n",
       "      <th>FT%</th>\n",
       "      <th>PTS</th>\n",
       "      <th>TRB</th>\n",
       "      <th>AST</th>\n",
       "      <th>STL</th>\n",
       "      <th>BLK</th>\n",
       "      <th>WS</th>\n",
       "      <th>Total Minutes</th>\n",
       "      <th>Seasons Played</th>\n",
       "      <th>Average Minutes</th>\n",
       "    </tr>\n",
       "  </thead>\n",
       "  <tbody>\n",
       "  </tbody>\n",
       "</table>\n",
       "<p>0 rows × 31 columns</p>\n",
       "</div>"
      ],
      "text/plain": [
       "Empty DataFrame\n",
       "Columns: [Year, Player, POSITION, DRAFT_NUMBER, HEIGHT_WO_SHOES, WEIGHT, WINGSPAN, STANDING_REACH, STANDING_REACH_FT_IN, STANDING_VERTICAL_LEAP, MAX_VERTICAL_LEAP, LANE_AGILITY_TIME, THREE_QUARTER_SPRINT, BENCH_PRESS, Age (Days), DRAFT_NUMBER.1, G, MP, FG%, 2P%, 3P%, FT%, PTS, TRB, AST, STL, BLK, WS, Total Minutes, Seasons Played, Average Minutes]\n",
       "Index: []\n",
       "\n",
       "[0 rows x 31 columns]"
      ]
     },
     "execution_count": 95,
     "metadata": {},
     "output_type": "execute_result"
    }
   ],
   "source": [
    "df1 = stats[stats.isna().any(axis=1)]\n",
    "df1"
   ]
  },
  {
   "cell_type": "code",
   "execution_count": 105,
   "id": "9afd2606",
   "metadata": {},
   "outputs": [],
   "source": [
    "def choose_year(year):\n",
    "    \n",
    "    #Training the model \n",
    "    train = stats[stats[\"Year\"] < year]\n",
    "    test = stats[stats['Year'] == year]\n",
    "    reg = Ridge(alpha = 0.01)\n",
    "    reg.fit(train[predictors], train['Average Minutes'])\n",
    "\n",
    "    #Getting predicitons in a dataframe\n",
    "    predictions = reg.predict(test[predictors])\n",
    "    predictions = pd.DataFrame(predictions, columns = ['Predictions'], index = test.index)\n",
    "    combination = pd.concat([test[['Player', 'Average Minutes']], predictions], axis = 1)\n",
    "    \n",
    "    #Getting Mean Square Error\n",
    "    mse = mean_squared_error(combination['Average Minutes'], combination['Predictions'])\n",
    "    string = 'The mean square error for this draft is: ' + str(mse)\n",
    "    \n",
    "    #Displays rank which refers to each players draft position relative to one another in the given dataset as well as the predicted rank and difference\n",
    "    #Not used cause clutter, can maybe delete?\n",
    "    combination = combination.sort_values('Average Minutes', ascending = False)\n",
    "    combination['RK'] = list(range(1, combination.shape[0]+1))\n",
    "    combination = combination.sort_values('Predictions', ascending = False)\n",
    "    combination['Predicted_RK'] = list(range(1, combination.shape[0]+1))\n",
    "    combination['Difference'] = combination['Predicted_RK'] - combination['RK']\n",
    "\n",
    "    #Gets a clutter free df 'clean' which neatly displays information\n",
    "    important_columns = ['Player',  'Average Minutes',  'Predictions']\n",
    "    clean = combination.loc[:,important_columns]\n",
    "    clean['Predictions'] = round(clean['Predictions'], 0)\n",
    "    clean['Average Minutes'] = round(clean['Average Minutes'], 0)\n",
    "    clean['Predictions'] = clean['Predictions'].astype(int)\n",
    "    clean['Average Minutes'] = clean['Average Minutes'].astype(int)\n",
    "    clean['Difference'] = clean['Predictions'] - clean['Average Minutes'] \n",
    "    \n",
    "    #Raptor, next step is use outer merge to get players with 0 min play\n",
    "\n",
    "    return clean, string\n",
    "\n",
    "    "
   ]
  },
  {
   "cell_type": "code",
   "execution_count": 109,
   "id": "cb0bb567",
   "metadata": {},
   "outputs": [
    {
     "name": "stdout",
     "output_type": "stream",
     "text": [
      "Enter the draft class you would like to predict: 2019\n"
     ]
    }
   ],
   "source": [
    "year = input(\"Enter the draft class you would like to predict: \")\n"
   ]
  },
  {
   "cell_type": "code",
   "execution_count": 110,
   "id": "27efe7ea",
   "metadata": {},
   "outputs": [
    {
     "data": {
      "text/plain": [
       "Index(['DRAFT_NUMBER', 'HEIGHT_WO_SHOES', 'WEIGHT', 'WINGSPAN',\n",
       "       'STANDING_REACH', 'STANDING_VERTICAL_LEAP', 'MAX_VERTICAL_LEAP',\n",
       "       'LANE_AGILITY_TIME', 'THREE_QUARTER_SPRINT', 'BENCH_PRESS',\n",
       "       'Age (Days)', 'G', 'MP', 'FG%', '2P%', '3P%', 'FT%', 'PTS', 'TRB',\n",
       "       'AST', 'STL', 'BLK', 'WS'],\n",
       "      dtype='object')"
      ]
     },
     "execution_count": 110,
     "metadata": {},
     "output_type": "execute_result"
    }
   ],
   "source": [
    "predictors = get_predictors(year)\n",
    "predictors"
   ]
  },
  {
   "cell_type": "code",
   "execution_count": 111,
   "id": "77f939ea",
   "metadata": {},
   "outputs": [
    {
     "data": {
      "text/plain": [
       "(                  Player  Average Minutes  Predictions  Difference\n",
       " 415            Ty Jerome              638         1285         647\n",
       " 428       Grant Williams             1354         1115        -239\n",
       " 408       Brandon Clarke             1322         1107        -215\n",
       " 429        Dylan Windler              489         1041         552\n",
       " 417        Nassir Little              769          995         226\n",
       " 413         Jaxson Hayes             1146          966        -180\n",
       " 421        Jaylen Nowell              629          853         224\n",
       " 409       Carsen Edwards              236          818         582\n",
       " 416    Mfiondu Kabengele              172          802         630\n",
       " 427       Tremont Waters              136          787         651\n",
       " 407     Ignas Brazdeikis              278          787         509\n",
       " 410       Bruno Fernando              364          753         389\n",
       " 424          Isaiah Roby              795          643        -152\n",
       " 411       Daniel Gafford              950          625        -325\n",
       " 425    Admiral Schofield              420          618         198\n",
       " 423        Eric Paschall             1029          616        -413\n",
       " 419          Cody Martin             1206          567        -639\n",
       " 420      Jalen McDaniels              698          532        -166\n",
       " 418         Terance Mann             1314          526        -788\n",
       " 406          Jordan Bone              126          503         377\n",
       " 414  Talen Horton-Tucker              965          495        -470\n",
       " 412             Kyle Guy              143          468         325\n",
       " 422             Miye Oni              225          135         -90\n",
       " 426        Marial Shayok               28           86          58,\n",
       " 'The mean square error for this draft is: 183554.61591066478')"
      ]
     },
     "execution_count": 111,
     "metadata": {},
     "output_type": "execute_result"
    }
   ],
   "source": [
    "choose_year(int(year))"
   ]
  },
  {
   "cell_type": "code",
   "execution_count": 26,
   "id": "49c4ea68",
   "metadata": {},
   "outputs": [
    {
     "ename": "AttributeError",
     "evalue": "'NoneType' object has no attribute 'dtype'",
     "output_type": "error",
     "traceback": [
      "\u001b[1;31m---------------------------------------------------------------------------\u001b[0m",
      "\u001b[1;31mAttributeError\u001b[0m                            Traceback (most recent call last)",
      "\u001b[1;32m~\\AppData\\Local\\Temp/ipykernel_3048/2766510982.py\u001b[0m in \u001b[0;36m<module>\u001b[1;34m\u001b[0m\n\u001b[1;32m----> 1\u001b[1;33m \u001b[0mpredictors\u001b[0m\u001b[1;33m.\u001b[0m\u001b[0mdtype\u001b[0m\u001b[1;33m\u001b[0m\u001b[1;33m\u001b[0m\u001b[0m\n\u001b[0m",
      "\u001b[1;31mAttributeError\u001b[0m: 'NoneType' object has no attribute 'dtype'"
     ]
    }
   ],
   "source": []
  },
  {
   "cell_type": "code",
   "execution_count": 11,
   "id": "9333e953",
   "metadata": {},
   "outputs": [
    {
     "name": "stdout",
     "output_type": "stream",
     "text": [
      "2014\n",
      "-179174.38709677415\n",
      "2015\n",
      "-105098.39285714287\n",
      "2016\n",
      "-38748.25\n",
      "2017\n",
      "-65277.57575757573\n",
      "2018\n",
      "-96952.0\n",
      "2019\n",
      "-54204.181818181816\n",
      "2020\n",
      "-30987.999999999996\n"
     ]
    },
    {
     "data": {
      "text/plain": [
       "-570442.7875296746"
      ]
     },
     "execution_count": 11,
     "metadata": {},
     "output_type": "execute_result"
    }
   ],
   "source": [
    "test = 0\n",
    "for year in range(2014,2021):\n",
    "    print(year)\n",
    "    print(choose_year(int(year))[1])\n",
    "    test = test + choose_year(int(year))[1]\n",
    "test"
   ]
  },
  {
   "cell_type": "code",
   "execution_count": 63,
   "id": "5839a64b",
   "metadata": {},
   "outputs": [],
   "source": [
    "from nba_api.stats.static import players\n",
    "from nba_api.stats.endpoints import draftcombinestats\n",
    "from nba_api.stats.endpoints import commonplayerinfo\n",
    "def get_info(name):\n",
    "    player_dict = players.get_players()\n",
    "    for player in player_dict:\n",
    "        if player['full_name'] == name:\n",
    "            player_info = commonplayerinfo.CommonPlayerInfo(player_id=player['id'])\n",
    "            df = player_info.get_data_frames()\n",
    "            df[1]['SCHOOL'] = df[0]['SCHOOL']\n",
    "    \n",
    "    \n",
    "    return(df[1])\n",
    "    \n",
    "    "
   ]
  },
  {
   "cell_type": "code",
   "execution_count": 64,
   "id": "cd68d002",
   "metadata": {},
   "outputs": [
    {
     "data": {
      "text/html": [
       "<div>\n",
       "<style scoped>\n",
       "    .dataframe tbody tr th:only-of-type {\n",
       "        vertical-align: middle;\n",
       "    }\n",
       "\n",
       "    .dataframe tbody tr th {\n",
       "        vertical-align: top;\n",
       "    }\n",
       "\n",
       "    .dataframe thead th {\n",
       "        text-align: right;\n",
       "    }\n",
       "</style>\n",
       "<table border=\"1\" class=\"dataframe\">\n",
       "  <thead>\n",
       "    <tr style=\"text-align: right;\">\n",
       "      <th></th>\n",
       "      <th>PLAYER_ID</th>\n",
       "      <th>PLAYER_NAME</th>\n",
       "      <th>TimeFrame</th>\n",
       "      <th>PTS</th>\n",
       "      <th>AST</th>\n",
       "      <th>REB</th>\n",
       "      <th>PIE</th>\n",
       "      <th>SCHOOL</th>\n",
       "    </tr>\n",
       "  </thead>\n",
       "  <tbody>\n",
       "    <tr>\n",
       "      <th>0</th>\n",
       "      <td>203500</td>\n",
       "      <td>Steven Adams</td>\n",
       "      <td>2021-22</td>\n",
       "      <td>6.9</td>\n",
       "      <td>3.4</td>\n",
       "      <td>10.0</td>\n",
       "      <td>0.108</td>\n",
       "      <td>Pittsburgh</td>\n",
       "    </tr>\n",
       "  </tbody>\n",
       "</table>\n",
       "</div>"
      ],
      "text/plain": [
       "   PLAYER_ID   PLAYER_NAME TimeFrame  PTS  AST   REB    PIE      SCHOOL\n",
       "0     203500  Steven Adams   2021-22  6.9  3.4  10.0  0.108  Pittsburgh"
      ]
     },
     "execution_count": 64,
     "metadata": {},
     "output_type": "execute_result"
    }
   ],
   "source": [
    "a = get_info('Steven Adams')\n",
    "a"
   ]
  },
  {
   "cell_type": "code",
   "execution_count": 55,
   "id": "55e91008",
   "metadata": {},
   "outputs": [
    {
     "data": {
      "text/plain": [
       "{'id': 76001,\n",
       " 'full_name': 'Alaa Abdelnaby',\n",
       " 'first_name': 'Alaa',\n",
       " 'last_name': 'Abdelnaby',\n",
       " 'is_active': False}"
      ]
     },
     "execution_count": 55,
     "metadata": {},
     "output_type": "execute_result"
    }
   ],
   "source": []
  },
  {
   "cell_type": "code",
   "execution_count": null,
   "id": "c3c3c98a",
   "metadata": {},
   "outputs": [],
   "source": []
  }
 ],
 "metadata": {
  "kernelspec": {
   "display_name": "Python 3 (ipykernel)",
   "language": "python",
   "name": "python3"
  },
  "language_info": {
   "codemirror_mode": {
    "name": "ipython",
    "version": 3
   },
   "file_extension": ".py",
   "mimetype": "text/x-python",
   "name": "python",
   "nbconvert_exporter": "python",
   "pygments_lexer": "ipython3",
   "version": "3.9.7"
  }
 },
 "nbformat": 4,
 "nbformat_minor": 5
}
