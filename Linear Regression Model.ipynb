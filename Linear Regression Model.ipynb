{
 "cells": [
  {
   "cell_type": "code",
   "execution_count": 2,
   "id": "54edfadf",
   "metadata": {},
   "outputs": [],
   "source": [
    "import pandas as pd\n",
    "from sklearn.linear_model import Ridge\n",
    "from sklearn.metrics import mean_squared_error\n",
    "\n"
   ]
  },
  {
   "cell_type": "code",
   "execution_count": 3,
   "id": "167882e6",
   "metadata": {},
   "outputs": [],
   "source": [
    "#Gets the data from the scraper and deletes the index column\n",
    "stats = pd.read_csv('total.csv')\n",
    "del stats['Unnamed: 0']"
   ]
  },
  {
   "cell_type": "code",
   "execution_count": 4,
   "id": "fbb8ca59",
   "metadata": {},
   "outputs": [],
   "source": [
    "#Gets Predidctor variables\n",
    "\n",
    "predictors = ['G', 'MP', 'FG%', '2P%', '3P%', 'FT%', 'PTS', 'TRB',\n",
    "       'AST', 'STL', 'BLK', 'PER', 'WS', 'BPM', 'Year', 'Height w/o Shoes',\n",
    "       'Height w/ Shoes', 'Weight', 'Wingspan', 'Standing Reach', 'Body Fat %',\n",
    "       'Hand Length', 'Hand Width', 'Age']\n",
    "'''\n",
    "columns = list(stats.columns)\n",
    "predictors = columns.pop(['Player','Pos', 'Year', 'Pick'])\n",
    "'''\n",
    "#Training data from 2013-2018, testing data from 2019, model with Ridge\n",
    "\n",
    "train = stats[stats[\"Year\"] < 2019]\n",
    "test = stats[stats['Year'] == 2019]\n",
    "reg = Ridge(alpha = 0.01)\n",
    "reg.fit(train[predictors], train['Pick'])\n",
    "\n",
    "#Gets predictions for 2019 in the form of a df as well as mean squared error as an error metric for the predictions\n",
    "predictions = reg.predict(test[predictors])\n",
    "predictions = pd.DataFrame(predictions, columns = ['Predictions'], index = test.index)\n",
    "combination = pd.concat([test[['Player', 'Pick']], predictions], axis = 1)\n",
    "mse = mean_squared_error(combination['Pick'], combination['Predictions'])\n"
   ]
  },
  {
   "cell_type": "code",
   "execution_count": 5,
   "id": "0b750d4f",
   "metadata": {},
   "outputs": [],
   "source": [
    "#Displays rank which refers to each players draft position relative to one another in the given dataset as well as the predicted rank and difference\n",
    "combination = combination.sort_values('Pick', ascending = True)\n",
    "combination['RK'] = list(range(1, combination.shape[0]+1))\n",
    "\n",
    "combination = combination.sort_values('Predictions', ascending = True)\n",
    "combination['Predicted_RK'] = list(range(1, combination.shape[0]+1))\n",
    "combination['Difference'] = combination['Predicted_RK'] - combination['RK']"
   ]
  },
  {
   "cell_type": "code",
   "execution_count": 9,
   "id": "9afd2606",
   "metadata": {},
   "outputs": [],
   "source": [
    "def choose_year(year):\n",
    "    train = stats[stats[\"Year\"] < year]\n",
    "    test = stats[stats['Year'] == year]\n",
    "    reg = Ridge(alpha = 0.01)\n",
    "    reg.fit(train[predictors], train['Pick'])\n",
    "    predictions = reg.predict(test[predictors])\n",
    "    predictions = pd.DataFrame(predictions, columns = ['Predictions'], index = test.index)\n",
    "    combination = pd.concat([test[['Player', 'Pick']], predictions], axis = 1)\n",
    "    mse = mean_squared_error(combination['Pick'], combination['Predictions'])\n",
    "    return mse\n",
    "\n",
    "    "
   ]
  },
  {
   "cell_type": "code",
   "execution_count": 10,
   "id": "cb0bb567",
   "metadata": {},
   "outputs": [
    {
     "data": {
      "text/plain": [
       "160.9658772266792"
      ]
     },
     "execution_count": 10,
     "metadata": {},
     "output_type": "execute_result"
    }
   ],
   "source": [
    "choose_year(2019)"
   ]
  },
  {
   "cell_type": "code",
   "execution_count": null,
   "id": "77f939ea",
   "metadata": {},
   "outputs": [],
   "source": []
  }
 ],
 "metadata": {
  "kernelspec": {
   "display_name": "Python 3 (ipykernel)",
   "language": "python",
   "name": "python3"
  },
  "language_info": {
   "codemirror_mode": {
    "name": "ipython",
    "version": 3
   },
   "file_extension": ".py",
   "mimetype": "text/x-python",
   "name": "python",
   "nbconvert_exporter": "python",
   "pygments_lexer": "ipython3",
   "version": "3.9.7"
  }
 },
 "nbformat": 4,
 "nbformat_minor": 5
}
